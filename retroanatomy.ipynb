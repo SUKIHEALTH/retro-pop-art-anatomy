{
 "cells": [
  {
   "cell_type": "code",
   "execution_count": 1,
   "metadata": {},
   "outputs": [],
   "source": [
    "# import library\n",
    "import os\n",
    "import json\n",
    "from dotenv import load_dotenv\n",
    "from openai import OpenAI\n",
    "import gradio as gr\n",
    "import base64\n",
    "from io import BytesIO\n",
    "from PIL import Image\n",
    "from datetime import date\n"
   ]
  },
  {
   "cell_type": "code",
   "execution_count": 2,
   "metadata": {},
   "outputs": [],
   "source": [
    "# Save keys\n",
    "load_dotenv(override=True)\n",
    "openai_api_key = os.getenv('OPENAI_API_KEY')\n",
    "if openai_api_key:\n",
    "    print(f\"OpenAI API Key exists and begins {openai_api_key[:8]}\")\n",
    "else:\n",
    "    print(\"OpenAI API Key not set\")\n",
    "MODEL = \"gpt-4o-mini\"\n",
    "openai = OpenAI()\n"
   ]
  },
  {
   "cell_type": "code",
   "execution_count": 3,
   "metadata": {},
   "outputs": [],
   "source": [
    "import csv\n",
    "from datetime import date\n",
    "def log_anatomy_to_csv(anatomy, filename, folder=\"anatomy_posters\", csv_path=\"anatomy_poster_log.csv\"):\n",
    "    today = date.today().isoformat()\n",
    "    filepath = os.path.join(folder, filename)\n",
    "    row = {\"anatomy\": anatomy, \"filename\": filename, \"date\": today, \"path\": filepath}\n",
    "    file_exists = os.path.isfile(csv_path)\n",
    "    with open(csv_path, mode='a', newline='', encoding='utf-8') as csvfile:\n",
    "        fieldnames = [\"anatomy\", \"filename\", \"date\", \"path\"]\n",
    "        writer = csv.DictWriter(csvfile, fieldnames=fieldnames)\n",
    "        if not file_exists:\n",
    "            writer.writeheader()\n",
    "        writer.writerow(row)\n",
    "    print(f\"📝 CSV updated: {csv_path}\")\n"
   ]
  },
  {
   "cell_type": "code",
   "execution_count": 4,
   "metadata": {},
   "outputs": [],
   "source": [
    "## List of anatomy medical\n",
    "medical_anatomy = [\n",
    "    \"Heart\", \"Lung\", \"Kidney\", \"Eye\", \"Brain\", \"Bladder\", \"Abdomen\", \"Uterus\",\n",
    "    \"Skeleton\", \"Muscles\", \"Nervous system\", \"Venous system\", \"Arterial system\", \"Ear\", \"Nose\",\n",
    "    \"Throat\", \"Knee\", \"Ankle\", \"Shoulder\", \"Vertebrae\", \"Elbow\", \"Hand\", \"Foot\",\n",
    "    \"Male genitalia\", \"Female genitalia\", \"Oral cavity\", \"Skin\", \"Head\"\n",
    "]\n"
   ]
  },
  {
   "cell_type": "code",
   "execution_count": 5,
   "metadata": {},
   "outputs": [],
   "source": [
    "# define artist function\n",
    "def anatomy_generator(anatomy, folder=\"anatomy_posters\", csv_path=\"anatomy_poster_log.csv\"):\n",
    "    os.makedirs(folder, exist_ok=True)\n",
    "    anatomy_clean = anatomy.lower().replace(\" \", \"_\")\n",
    "    today = date.today().isoformat()\n",
    "    filename = f\"popart_{anatomy_clean}_{today}.png\"\n",
    "    filepath = os.path.join(folder, filename)\n",
    "    prompt = f\"Vibrant pop-art style human anatomy of {anatomy}, with anatomical landmarks, labeled parts, and bold retro font text '{anatomy}', suitable for wall art, highly detailed, colorful, 1024x1024 resolution\"\n",
    "    image_response = openai.images.generate(\n",
    "        model=\"dall-e-3\",\n",
    "        prompt=prompt,\n",
    "        size=\"1024x1024\",\n",
    "        n=1,\n",
    "        response_format=\"b64_json\",\n",
    "    )\n",
    "    image_base64 = image_response.data[0].b64_json\n",
    "    image_data = base64.b64decode(image_base64)\n",
    "    image = Image.open(BytesIO(image_data))\n",
    "    image.save(filepath)\n",
    "    log_anatomy_to_csv(anatomy=anatomy, filename=filename, folder=folder, csv_path=csv_path)\n",
    "    print(f\"✅ Image saved: {filepath}\")\n",
    "    return image\n"
   ]
  },
  {
   "cell_type": "code",
   "execution_count": 6,
   "metadata": {},
   "outputs": [],
   "source": [
    "for anatomy in medical_anatomy:\n",
    "    try:\n",
    "        print(f\"🧠 Generating poster for: {anatomy}\")\n",
    "        anatomy_generator(anatomy)\n",
    "    except Exception as e:\n",
    "        print(f\"❌ Error for {anatomy}: {e}\")\n"
   ]
  }
 ],
 "metadata": {
  "kernelspec": {
   "display_name": "Python 3 (ipykernel)",
   "language": "python",
   "name": "python3"
  },
  "language_info": {
   "name": "python",
   "version": "3.11.12"
  }
 },
 "nbformat": 4,
 "nbformat_minor": 5
}
