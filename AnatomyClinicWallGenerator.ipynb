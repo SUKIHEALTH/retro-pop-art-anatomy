{
 "cells": [
  {
   "cell_type": "code",
   "execution_count": 74,
   "id": "505151d6-8584-4921-91f9-4c091bd1f6a8",
   "metadata": {},
   "outputs": [],
   "source": [
    "# --- Imports ---\n",
    "import os\n",
    "import base64\n",
    "import csv\n",
    "from io import BytesIO\n",
    "from datetime import date\n",
    "from PIL import Image, ImageDraw, ImageFont\n",
    "from dotenv import load_dotenv\n",
    "from openai import OpenAI\n",
    "import gradio as gr"
   ]
  },
  {
   "cell_type": "code",
   "execution_count": 75,
   "id": "26abc65d-80fe-4234-92f9-4f1a3d823c73",
   "metadata": {},
   "outputs": [],
   "source": [
    "# --- Load API Key from Environment (batch mode only) ---\n",
    "load_dotenv(override=True)\n",
    "openai_api_key = os.getenv(\"OPENAI_API_KEY\")\n",
    "if openai_api_key:\n",
    "    openai = OpenAI()\n",
    "else:\n",
    "    openai = None\n",
    "    print(\"⚠️ No API key found for batch mode.\")"
   ]
  },
  {
   "cell_type": "code",
   "execution_count": 76,
   "id": "d374ba6e-a531-4d74-b50f-dd7a5c1e0fb1",
   "metadata": {},
   "outputs": [],
   "source": [
    "# --- Settings ---\n",
    "MODEL = \"gpt-4o-mini\"\n",
    "MOCKUP_TEMPLATE = \"frame_template.png\"\n",
    "DEFAULT_WATERMARK = \"The Real Doctor\""
   ]
  },
  {
   "cell_type": "code",
   "execution_count": 77,
   "id": "6656c4c9-41d0-40c6-aac0-b2d2e6e52be1",
   "metadata": {},
   "outputs": [],
   "source": [
    "# --- Anatomy List (for batch use) ---\n",
    "medical_anatomy = [\n",
    "    \"Heart\", \"Lung\", \"Kidney\", \"Eye\", \"Brain\", \"Bladder\", \"Abdomen\", \"Uterus\",\n",
    "    \"Skeleton\", \"Muscles\", \"Nervous system\", \"Venous system\", \"Arterial system\", \"Ear\", \"Nose\",\n",
    "    \"Throat\", \"Knee\", \"Ankle\", \"Shoulder\", \"Vertebrae\", \"Elbow\", \"Hand\", \"Foot\",\n",
    "    \"Male genitalia\", \"Female genitalia\", \"Oral cavity\", \"Skin\", \"Head\"\n",
    "]"
   ]
  },
  {
   "cell_type": "code",
   "execution_count": 78,
   "id": "2bad1c7f-0e60-4949-9d2e-c82998d3c006",
   "metadata": {},
   "outputs": [],
   "source": [
    "# --- Artist Style Options ---\n",
    "artist_styles = [\n",
    "    \"None\", \"Van Gogh\", \"Hokusai\", \"Ghibli\", \"Basquiat\", \"Cubist\",\n",
    "    \"Minimalist\", \"Impressionist\", \"Futurist\", \"Mondrian\",\n",
    "    \"Andy Warhol\", \"Art Nouveau\", \"Street Art\", \"Surrealist\",\n",
    "    \"Medical Illustration\"\n",
    "]"
   ]
  },
  {
   "cell_type": "code",
   "execution_count": 79,
   "id": "f40eddc8-a5d6-4be6-bd7a-f1d8bbf41b2b",
   "metadata": {},
   "outputs": [],
   "source": [
    "# --- CSV Logger (optional for batch) ---\n",
    "def log_anatomy_to_csv(anatomy, filename, folder=\"anatomy_posters_wall\", csv_path=\"anatomy_poster_wall_log.csv\"):\n",
    "    today = date.today().isoformat()\n",
    "    filepath = os.path.join(folder, filename)\n",
    "    row = {\"anatomy\": anatomy, \"filename\": filename, \"date\": today, \"path\": filepath}\n",
    "    file_exists = os.path.isfile(csv_path)\n",
    "    with open(csv_path, mode='a', newline='', encoding='utf-8') as csvfile:\n",
    "        writer = csv.DictWriter(csvfile, fieldnames=row.keys())\n",
    "        if not file_exists:\n",
    "            writer.writeheader()\n",
    "        writer.writerow(row)\n",
    "    print(f\"📝 CSV updated for {anatomy}\")"
   ]
  },
  {
   "cell_type": "code",
   "execution_count": 80,
   "id": "1e9a0d16-7baa-4cbc-bde7-a2321c541525",
   "metadata": {},
   "outputs": [],
   "source": [
    "# --- Generate Anatomy Poster ---\n",
    "def generate_anatomy_image(anatomy, artist_style=None, user_openai=None):\n",
    "    anatomy_clean = anatomy.lower().replace(\" \", \"_\")\n",
    "    today = date.today().isoformat()\n",
    "    filename = f\"popart_{anatomy_clean}_{today}.png\"\n",
    "\n",
    "    style_clause = f\", in {artist_style} style\" if artist_style and artist_style != \"None\" else \"\"\n",
    "    prompt = f\"Vibrant pop-art style human anatomy of {anatomy}{style_clause}, with anatomical landmarks, suitable for wall art, highly detailed, colorful, 1024x1024 resolution\"\n",
    "\n",
    "    response = user_openai.images.generate(\n",
    "        model=\"dall-e-3\",\n",
    "        prompt=prompt,\n",
    "        size=\"1024x1024\",\n",
    "        n=1,\n",
    "        response_format=\"b64_json\"\n",
    "    )\n",
    "\n",
    "    image_data = base64.b64decode(response.data[0].b64_json)\n",
    "    image = Image.open(BytesIO(image_data))\n",
    "    return image"
   ]
  },
  {
   "cell_type": "code",
   "execution_count": 81,
   "id": "16f2c22d-911c-416c-9fe5-49568bb3ec27",
   "metadata": {},
   "outputs": [],
   "source": [
    "# --- Generate Mockup and Save to Temp File ---\n",
    "def create_mockup(image, watermark_text=DEFAULT_WATERMARK):\n",
    "    try:\n",
    "        mockup = Image.open(MOCKUP_TEMPLATE).convert(\"RGBA\")\n",
    "    except Exception as e:\n",
    "        raise FileNotFoundError(f\"❌ Could not load mockup template: {e}\")\n",
    "\n",
    "    art = image.convert(\"RGBA\").resize((500, 500))\n",
    "    mockup_copy = mockup.copy()\n",
    "    x = (mockup_copy.width - art.width) // 2\n",
    "    y = (mockup_copy.height - art.height) // 2\n",
    "    mockup_copy.paste(art, (x, y), art)\n",
    "\n",
    "    if watermark_text:\n",
    "        draw = ImageDraw.Draw(mockup_copy)\n",
    "        try:\n",
    "            font = ImageFont.truetype(\"arial.ttf\", 24)\n",
    "        except:\n",
    "            font = ImageFont.load_default()\n",
    "        draw.text((20, 20), watermark_text, fill=(255, 255, 255, 180), font=font)\n",
    "    import tempfile\n",
    "\n",
    "    temp_file = tempfile.NamedTemporaryFile(delete=False, suffix=\".png\")\n",
    "    mockup_copy.save(temp_file.name)\n",
    "    temp_file.close()\n",
    "    return temp_file.name\n",
    "\n",
    "    #temp_path = gr.make_tempfile(suffix=\".png\")\n",
    "    #mockup_copy.save(temp_path)\n",
    "    #print(f\"🖼️ Mockup saved: {temp_path}\")\n",
    "    #return temp_path"
   ]
  },
  {
   "cell_type": "code",
   "execution_count": 82,
   "id": "94b56f83-2064-49da-9e14-81f1e218550d",
   "metadata": {},
   "outputs": [],
   "source": [
    "# --- Gradio Interface Function ---\n",
    "def generate_single_mockup(api_key, anatomy_input, artist_style, watermark_text):\n",
    "    try:\n",
    "        user_openai = OpenAI(api_key=api_key)\n",
    "\n",
    "        # Generate anatomy image\n",
    "        image = generate_anatomy_image(anatomy_input, artist_style, user_openai=user_openai)\n",
    "\n",
    "        # Create mockup and save to temp file\n",
    "        output_path = create_mockup(image, watermark_text)\n",
    "\n",
    "        return output_path  # Must be a file path\n",
    "\n",
    "    except Exception as e:\n",
    "        print(f\"❌ Error: {e}\")\n",
    "        if \"billing_hard_limit\" in str(e):\n",
    "            print(\"⚠️ OpenAI billing limit reached.\")\n",
    "        return None  # Gradio will show nothing if there's no image"
   ]
  },
  {
   "cell_type": "code",
   "execution_count": 83,
   "id": "b5475a1c-c048-4541-bda1-a332a63a2f3f",
   "metadata": {},
   "outputs": [
    {
     "name": "stdout",
     "output_type": "stream",
     "text": [
      "* Running on local URL:  http://127.0.0.1:7869\n",
      "\n",
      "Could not create share link. Please check your internet connection or our status page: https://status.gradio.app.\n"
     ]
    },
    {
     "data": {
      "text/html": [
       "<div><iframe src=\"http://127.0.0.1:7869/\" width=\"100%\" height=\"500\" allow=\"autoplay; camera; microphone; clipboard-read; clipboard-write;\" frameborder=\"0\" allowfullscreen></iframe></div>"
      ],
      "text/plain": [
       "<IPython.core.display.HTML object>"
      ]
     },
     "metadata": {},
     "output_type": "display_data"
    }
   ],
   "source": [
    "# --- Gradio UI ---\n",
    "demo = gr.Interface(\n",
    "    fn=generate_single_mockup,\n",
    "    inputs=[\n",
    "        gr.Textbox(label=\"Your OpenAI API Key\", type=\"password\"),\n",
    "        gr.Textbox(label=\"Anatomy Term (e.g. Heart)\"),\n",
    "        gr.Dropdown(label=\"Art Style\", choices=artist_styles, value=\"None\"),\n",
    "        gr.Textbox(label=\"Watermark Text (optional)\", value=DEFAULT_WATERMARK),\n",
    "    ],\n",
    "    outputs=gr.Image(type=\"filepath\", label=\"Generated Mockup\"),\n",
    "    title=\"Anatomy Poster Generator\",\n",
    "    description=\"Generate vibrant anatomy mockups inspired by classic and modern art styles. Secure, local, and watermark-protected.\"\n",
    ")\n",
    "\n",
    "# --- Run ---\n",
    "if __name__ == \"__main__\":\n",
    "    demo.launch(share=True)\n"
   ]
  },
  {
   "cell_type": "code",
   "execution_count": null,
   "id": "1af6f494-adf6-4880-a617-87af2f5a3da7",
   "metadata": {},
   "outputs": [],
   "source": []
  }
 ],
 "metadata": {
  "kernelspec": {
   "display_name": "Python 3 (ipykernel)",
   "language": "python",
   "name": "python3"
  },
  "language_info": {
   "codemirror_mode": {
    "name": "ipython",
    "version": 3
   },
   "file_extension": ".py",
   "mimetype": "text/x-python",
   "name": "python",
   "nbconvert_exporter": "python",
   "pygments_lexer": "ipython3",
   "version": "3.11.12"
  }
 },
 "nbformat": 4,
 "nbformat_minor": 5
}
